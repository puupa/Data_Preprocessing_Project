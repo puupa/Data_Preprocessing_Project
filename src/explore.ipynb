{
    "cells": [
        {
            "cell_type": "markdown",
            "metadata": {},
            "source": [
                "# Explore here"
            ]
        },
        {
            "cell_type": "code",
            "execution_count": 1,
            "metadata": {},
            "outputs": [],
            "source": [
                "import os\n",
                "from sqlalchemy import create_engine\n",
                "import pandas as pd"
            ]
        },
        {
            "cell_type": "code",
            "execution_count": 2,
            "metadata": {},
            "outputs": [],
            "source": [
                "DB_URI = os.getenv('DB_URI').replace('postgres://', f'postgresql://')\n",
                "\n",
                "engine = create_engine(DB_URI, echo=False)"
            ]
        },
        {
            "cell_type": "code",
            "execution_count": 3,
            "metadata": {},
            "outputs": [
                {
                    "data": {
                        "text/plain": [
                            "895"
                        ]
                    },
                    "execution_count": 3,
                    "metadata": {},
                    "output_type": "execute_result"
                }
            ],
            "source": [
                "df = pd.read_csv('../data/raw/AB_NYC_2019.csv')\n",
                "\n",
                "df.to_sql('ml_4geeks_airbnb_ny_2019', engine, if_exists='replace', index=False)"
            ]
        },
        {
            "cell_type": "code",
            "execution_count": 6,
            "metadata": {},
            "outputs": [
                {
                    "name": "stdout",
                    "output_type": "stream",
                    "text": [
                        "<class 'pandas.core.frame.DataFrame'>\n",
                        "RangeIndex: 48895 entries, 0 to 48894\n",
                        "Data columns (total 16 columns):\n",
                        " #   Column                          Non-Null Count  Dtype  \n",
                        "---  ------                          --------------  -----  \n",
                        " 0   id                              48895 non-null  int64  \n",
                        " 1   name                            48879 non-null  object \n",
                        " 2   host_id                         48895 non-null  int64  \n",
                        " 3   host_name                       48874 non-null  object \n",
                        " 4   neighbourhood_group             48895 non-null  object \n",
                        " 5   neighbourhood                   48895 non-null  object \n",
                        " 6   latitude                        48895 non-null  float64\n",
                        " 7   longitude                       48895 non-null  float64\n",
                        " 8   room_type                       48895 non-null  object \n",
                        " 9   price                           48895 non-null  int64  \n",
                        " 10  minimum_nights                  48895 non-null  int64  \n",
                        " 11  number_of_reviews               48895 non-null  int64  \n",
                        " 12  last_review                     38843 non-null  object \n",
                        " 13  reviews_per_month               38843 non-null  float64\n",
                        " 14  calculated_host_listings_count  48895 non-null  int64  \n",
                        " 15  availability_365                48895 non-null  int64  \n",
                        "dtypes: float64(3), int64(7), object(6)\n",
                        "memory usage: 6.0+ MB\n"
                    ]
                },
                {
                    "data": {
                        "text/plain": [
                            "(48895, 16)"
                        ]
                    },
                    "execution_count": 6,
                    "metadata": {},
                    "output_type": "execute_result"
                }
            ],
            "source": [
                "db = pd.read_sql('ml_4geeks_airbnb_ny_2019', engine)\n",
                "db.info()\n",
                "db.shape"
            ]
        },
        {
            "cell_type": "code",
            "execution_count": null,
            "metadata": {},
            "outputs": [],
            "source": []
        }
    ],
    "metadata": {
        "kernelspec": {
            "display_name": "Python 3.8.13 64-bit ('3.8.13')",
            "language": "python",
            "name": "python3"
        },
        "language_info": {
            "codemirror_mode": {
                "name": "ipython",
                "version": 3
            },
            "file_extension": ".py",
            "mimetype": "text/x-python",
            "name": "python",
            "nbconvert_exporter": "python",
            "pygments_lexer": "ipython3",
            "version": "3.11.5"
        },
        "orig_nbformat": 4,
        "vscode": {
            "interpreter": {
                "hash": "110cc1dee26208153f2972f08a2ad52b6a56238dc66d48e87fb757ef2996db56"
            }
        }
    },
    "nbformat": 4,
    "nbformat_minor": 2
}
